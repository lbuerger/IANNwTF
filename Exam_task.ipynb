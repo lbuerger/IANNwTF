{
  "nbformat": 4,
  "nbformat_minor": 0,
  "metadata": {
    "colab": {
      "name": "Untitled3.ipynb",
      "provenance": [],
      "authorship_tag": "ABX9TyPNtX7OVvU26UAV3JMfZkHl",
      "include_colab_link": true
    },
    "kernelspec": {
      "name": "python3",
      "display_name": "Python 3"
    }
  },
  "cells": [
    {
      "cell_type": "markdown",
      "metadata": {
        "id": "view-in-github",
        "colab_type": "text"
      },
      "source": [
        "<a href=\"https://colab.research.google.com/github/lbuerger/IANNwTF/blob/main/Exam_task.ipynb\" target=\"_parent\"><img src=\"https://colab.research.google.com/assets/colab-badge.svg\" alt=\"Open In Colab\"/></a>"
      ]
    },
    {
      "cell_type": "code",
      "metadata": {
        "colab": {
          "base_uri": "https://localhost:8080/"
        },
        "id": "hazzbxm6_Gh4",
        "outputId": "75f886f6-494f-4423-a652-cf0a3bb6fe30"
      },
      "source": [
        "import tensorflow as tf\r\n",
        "from tensorflow.keras import layers\r\n",
        "\r\n",
        "class ReverseModel(tf.keras.Model):\r\n",
        "    def __init__(self):\r\n",
        "      super(ReverseModel, self).__init__()\r\n",
        "\r\n",
        "      self.layer_list = [\r\n",
        "        layers.Conv2D(16, kernel_size = 3, strides= 2 , activation = \"relu\", padding ='same', input_shape=(64,64,3)),\r\n",
        "        layers.Conv2D(32, kernel_size = 3, strides= 1 , activation = \"relu\", padding ='valid'),\r\n",
        "        layers.Conv2D(32, kernel_size = 3, strides= 2 , activation = \"relu\", padding ='same'),\r\n",
        "        layers.Flatten(),\r\n",
        "        layers.Dense(10),\r\n",
        "        layers.Dense(8192),\r\n",
        "        layers.Reshape((16,16,32)),\r\n",
        "        layers.Conv2DTranspose(32, kernel_size=3, strides=2, activation = \"relu\", padding=\"same\"),\r\n",
        "        layers.Conv2DTranspose(64, kernel_size=3, strides=2, activation = \"relu\", padding=\"same\"),\r\n",
        "        layers.Conv2D(3, kernel_size = 1, strides= 1 , activation = \"relu\", padding ='same'),\r\n",
        "\r\n",
        "      ]\r\n",
        "\r\n",
        "    def call(self, x):\r\n",
        "      #print(\"Layers in ResBlock:\",len(self.layer_list))\r\n",
        "      count = 1\r\n",
        "      for layer in self.layer_list:\r\n",
        "        \r\n",
        "        x = layer(x)\r\n",
        "        print(\"After layer\",count,\":\", x.shape)\r\n",
        "        count +=1\r\n",
        "      return x\r\n",
        "model = ReverseModel()\r\n",
        "in_sample=  tf.ones((32,64,64,3)) # minibatchsize of 32\r\n",
        "print(\"Input:\", in_sample.shape)\r\n",
        "out_sample = model(in_sample)"
      ],
      "execution_count": 2,
      "outputs": [
        {
          "output_type": "stream",
          "text": [
            "Input: (32, 64, 64, 3)\n",
            "After layer 1 : (32, 32, 32, 16)\n",
            "After layer 2 : (32, 30, 30, 32)\n",
            "After layer 3 : (32, 15, 15, 32)\n",
            "After layer 4 : (32, 7200)\n",
            "After layer 5 : (32, 10)\n",
            "After layer 6 : (32, 8192)\n",
            "After layer 7 : (32, 16, 16, 32)\n",
            "After layer 8 : (32, 32, 32, 32)\n",
            "After layer 9 : (32, 64, 64, 64)\n",
            "After layer 10 : (32, 64, 64, 3)\n"
          ],
          "name": "stdout"
        }
      ]
    },
    {
      "cell_type": "code",
      "metadata": {
        "id": "d0nXFEwGAOZa"
      },
      "source": [
        ""
      ],
      "execution_count": null,
      "outputs": []
    }
  ]
}