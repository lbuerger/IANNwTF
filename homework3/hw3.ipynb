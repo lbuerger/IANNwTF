{
  "nbformat": 4,
  "nbformat_minor": 0,
  "metadata": {
    "colab": {
      "name": "Untitled0.ipynb",
      "provenance": [],
      "authorship_tag": "ABX9TyPZ1N1nDTmlCZsy6wbR281J",
      "include_colab_link": true
    },
    "kernelspec": {
      "name": "python3",
      "display_name": "Python 3"
    }
  },
  "cells": [
    {
      "cell_type": "markdown",
      "metadata": {
        "id": "view-in-github",
        "colab_type": "text"
      },
      "source": [
        "<a href=\"https://colab.research.google.com/github/lbuerger/IANNwTF/blob/main/homework3/hw3.ipynb\" target=\"_parent\"><img src=\"https://colab.research.google.com/assets/colab-badge.svg\" alt=\"Open In Colab\"/></a>"
      ]
    },
    {
      "cell_type": "code",
      "metadata": {
        "id": "m-jFyA4R4Rnc"
      },
      "source": [
        "import numpy as np\n",
        "import tensorflow as tf\n",
        "import tensorflow_datasets as tfds"
      ],
      "execution_count": 111,
      "outputs": []
    },
    {
      "cell_type": "code",
      "metadata": {
        "id": "eWh7GM5i4VlO",
        "outputId": "5a4c362e-e12d-48f7-9743-3209a221cc8a",
        "colab": {
          "base_uri": "https://localhost:8080/"
        }
      },
      "source": [
        "ds = tfds.load('genomics_ood', as_supervised=True)\n",
        "train_ds = tfds.load('genomics_ood', as_supervised =True, split='train[:1000]')\n",
        "test_ds = tfds.load('genomics_ood', as_supervised =True, split='test[:100]')\n",
        "ds['test']\n",
        "print_ds(ds['test'])"
      ],
      "execution_count": 137,
      "outputs": [
        {
          "output_type": "stream",
          "text": [
            "(<tf.Tensor: shape=(), dtype=string, numpy=b'CTCCGCATGATCGAGGAGCCGCACCTTGCAGTGCGGGCACAGCAGCTTCACGAGGCGCTGGCTGATGAGCCCGGAGATCACCGTGTGATCGGTGATCATCCGCGCGTGCAGGCCGAGATCGATCAGGCGATCGGCGATCGCGAGCGCGCTGTTCGCGTGCACGGTCGTCCACACCTGATGGCCCGTCATCGACGCGCGCAGCGCCGTCTGCCCGGACGCGCGATCGCGGATCTCGCCGATCATGATCGTG'>, <tf.Tensor: shape=(), dtype=int64, numpy=1>)\n"
          ],
          "name": "stdout"
        }
      ]
    },
    {
      "cell_type": "code",
      "metadata": {
        "id": "sbqWVc1s4WCM"
      },
      "source": [
        "def print_ds(ds):\n",
        "  for i in ds:\n",
        "    print(i)\n",
        "    break;\n"
      ],
      "execution_count": 39,
      "outputs": []
    },
    {
      "cell_type": "code",
      "metadata": {
        "id": "sfSn4HM_4dwl"
      },
      "source": [
        "train_ds = train_ds.prefetch(128)"
      ],
      "execution_count": 130,
      "outputs": []
    },
    {
      "cell_type": "code",
      "metadata": {
        "id": "59fhYxyH6z2U",
        "outputId": "a734db1f-d0eb-48a9-93fe-31fbb3083612",
        "colab": {
          "base_uri": "https://localhost:8080/"
        }
      },
      "source": [
        "train_ds_slice = tf.data.Dataset.from_tensor_slices([train_ds])\n",
        "#train_ds_slice = train_ds_slice.map(lambda dat : tf.reshape(dat[0],(-1,)))\n",
        "train_ds_slice.map(lambda x : simplify_ds(x))\n",
        "train_ds_slice"
      ],
      "execution_count": 134,
      "outputs": [
        {
          "output_type": "stream",
          "text": [
            "<_VariantDataset shapes: ((), ()), types: (tf.string, tf.int64)>\n",
            "simply (<tf.Tensor 'args_1:0' shape=() dtype=string>, <tf.Tensor 'args_2:0' shape=() dtype=int64>)\n"
          ],
          "name": "stdout"
        },
        {
          "output_type": "execute_result",
          "data": {
            "text/plain": [
              "<TensorSliceDataset shapes: DatasetSpec((TensorSpec(shape=(), dtype=tf.string, name=None), TensorSpec(shape=(), dtype=tf.int64, name=None)), TensorShape([])), types: DatasetSpec((TensorSpec(shape=(), dtype=tf.string, name=None), TensorSpec(shape=(), dtype=tf.int64, name=None)), TensorShape([]))>"
            ]
          },
          "metadata": {
            "tags": []
          },
          "execution_count": 134
        }
      ]
    },
    {
      "cell_type": "code",
      "metadata": {
        "id": "ctxQFNDR84VU"
      },
      "source": [
        "def onehotify(tensor):\n",
        "  vocab = {'A':'1', 'C': '2', 'G':'3', 'T':'0'}\n",
        "  for key in vocab.keys():\n",
        "    tensor = tf.strings.regex_replace(tensor, key, vocab[key])\n",
        "  split = tf.strings.bytes_split(tensor)\n",
        "  labels = tf.cast(tf.strings.to_number(split), tf.uint8)\n",
        "  onehot = tf.one_hot(labels, 4)\n",
        "  onehot = tf.reshape(onehot, (-1,))  \n",
        "  return onehot"
      ],
      "execution_count": 99,
      "outputs": []
    },
    {
      "cell_type": "code",
      "metadata": {
        "id": "LhC6vH8M9D7Z"
      },
      "source": [
        "def simplify_ds(data):\n",
        "  print(data)\n",
        "  for i in data:\n",
        "    print('simply', i)\n",
        "  return data"
      ],
      "execution_count": 91,
      "outputs": []
    },
    {
      "cell_type": "code",
      "metadata": {
        "id": "zGEUwCSTPSgu"
      },
      "source": [
        "def make_usefull(ds):\n",
        "  data = []\n",
        "  label = []\n",
        "  for i in ds:\n",
        "    data.append(onehotify(i[0]))\n",
        "    label.append(tf.one_hot(i[1],10))\n",
        "  data_ds = tf.data.Dataset.from_tensor_slices(data)\n",
        "  label_ds = tf.data.Dataset.from_tensor_slices(label)\n",
        "  return tf.data.Dataset.zip((data_ds, label_ds))"
      ],
      "execution_count": 138,
      "outputs": []
    },
    {
      "cell_type": "code",
      "metadata": {
        "id": "sIBS86dha0eG"
      },
      "source": [
        "make_usefull(ds['test'])"
      ],
      "execution_count": null,
      "outputs": []
    },
    {
      "cell_type": "code",
      "metadata": {
        "id": "LNpxrUrXa4y7"
      },
      "source": [
        ""
      ],
      "execution_count": null,
      "outputs": []
    }
  ]
}