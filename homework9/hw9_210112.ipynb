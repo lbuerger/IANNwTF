{
  "nbformat": 4,
  "nbformat_minor": 0,
  "metadata": {
    "colab": {
      "name": "Untitled2.ipynb",
      "provenance": [],
      "authorship_tag": "ABX9TyOO4Gn0+VFou1x0o1ybEO7q",
      "include_colab_link": true
    },
    "kernelspec": {
      "name": "python3",
      "display_name": "Python 3"
    }
  },
  "cells": [
    {
      "cell_type": "markdown",
      "metadata": {
        "id": "view-in-github",
        "colab_type": "text"
      },
      "source": [
        "<a href=\"https://colab.research.google.com/github/lbuerger/IANNwTF/blob/main/homework9/hw9_210112.ipynb\" target=\"_parent\"><img src=\"https://colab.research.google.com/assets/colab-badge.svg\" alt=\"Open In Colab\"/></a>"
      ]
    },
    {
      "cell_type": "code",
      "metadata": {
        "id": "ZxqVa276p9o0"
      },
      "source": [
        "import numpy as np\r\n",
        "import tensorflow as tf\r\n",
        "import time"
      ],
      "execution_count": 10,
      "outputs": []
    },
    {
      "cell_type": "code",
      "metadata": {
        "id": "VeFYuLwnqObk"
      },
      "source": [
        ""
      ],
      "execution_count": 10,
      "outputs": []
    },
    {
      "cell_type": "code",
      "metadata": {
        "id": "klDG-QR1r4D2"
      },
      "source": [
        ""
      ],
      "execution_count": 10,
      "outputs": []
    },
    {
      "cell_type": "code",
      "metadata": {
        "id": "4wXiHdZGr56A"
      },
      "source": [
        "from tensorflow.keras import Model\r\n",
        "from tensorflow.keras import layers\r\n",
        "\r\n",
        "class LSTM_Cell(layers.Layer):\r\n",
        "  def __init__(self, unit_size):\r\n",
        "    super(LSTM_Cell, self).__init__()\r\n",
        "    self.forget_layer = layers.Dense(unit_size, activation=\"sigmoid\", bias_initializer=\"ones\")\r\n",
        "    self.input_layer = layers.Dense(unit_size, activation=\"sigmoid\")\r\n",
        "    self.candidate_layer = layers.Dense(unit_size,  activation=\"tanh\")\r\n",
        "    self.output_layer = layers.Dense(unit_size, activation=\"sigmoid\")\r\n",
        "  \r\n",
        "  def call(self, x, states):\r\n",
        "    hidden_state, cell_state = states\r\n",
        "    hidden_state = layers.concatenate([x, hidden_state])\r\n",
        "    forget_gate = self.forget_layer(hidden_state)\r\n",
        "    input_gate = self.input_layer(hidden_state)\r\n",
        "    cell_state_candidates = self.candidate_layer(hidden_state)\r\n",
        "    cell_state = cell_state * forget_gate + input_gate * cell_state_candidates\r\n",
        "    output_gate = self.output_layer(hidden_state)\r\n",
        "    hidden_state = output_gate * tf.math.tanh(cell_state)\r\n",
        "    return hidden_state, cell_state \r\n",
        "  \r\n",
        "class LSTM(layers.Layer):\r\n",
        "  def __init__(self, unit_size):\r\n",
        "    super(LSTM, self).__init__()\r\n",
        "    self.unit_size = unit_size\r\n",
        "    self.cell = LSTM_Cell(unit_size)\r\n",
        "\r\n",
        "  def call(self, x):\r\n",
        "    sequence_length = x.shape[1]\r\n",
        "    outputs = []\r\n",
        "    states = self.zero_states(x.shape[0])\r\n",
        "    for i in range(sequence_length):\r\n",
        "      states = self.cell(x[:,i,:],states)\r\n",
        "      outputs.append(states[0])\r\n",
        "    return tf.stack(outputs, axis=1)\r\n",
        "\r\n",
        "  def zero_states(self, batch_size):\r\n",
        "    state = tf.zeros((batch_size,self.unit_size))\r\n",
        "    return (state, state)\r\n",
        "\r\n",
        "class LSTM_Model(Model):\r\n",
        "  def __init__(self, unit_size):\r\n",
        "    super(LSTM_Model, self).__init__()\r\n",
        "    self.unit_size = unit_size\r\n",
        "    self.input_layer = layers.Dense(10, activation=\"sigmoid\")\r\n",
        "    self.lstm = LSTM(unit_size)\r\n",
        "    self.output_layer = layers.Dense(1,activation=\"sigmoid\")\r\n",
        "\r\n",
        "  def call(self, x):\r\n",
        "    x = self.input_layer(x)\r\n",
        "    x = self.lstm(x)\r\n",
        "    x = self.output_layer(x)\r\n",
        "    return x"
      ],
      "execution_count": 11,
      "outputs": []
    },
    {
      "cell_type": "code",
      "metadata": {
        "colab": {
          "base_uri": "https://localhost:8080/"
        },
        "id": "vT53oT5b1Ym2",
        "outputId": "bdafc951-a07d-4b66-fd5b-9fcecf5bfbfe"
      },
      "source": [
        "lstm = LSTM_Cell(unit_size=5)\r\n",
        "lstm(tf.ones((10,21)),(tf.ones((10,5)),tf.ones([10,5])))"
      ],
      "execution_count": 12,
      "outputs": [
        {
          "output_type": "execute_result",
          "data": {
            "text/plain": [
              "(<tf.Tensor: shape=(10, 5), dtype=float32, numpy=\n",
              " array([[0.26082015, 0.3606508 , 0.24511595, 0.15747857, 0.1966048 ],\n",
              "        [0.26082015, 0.3606508 , 0.24511595, 0.15747857, 0.1966048 ],\n",
              "        [0.26082015, 0.3606508 , 0.24511595, 0.15747857, 0.1966048 ],\n",
              "        [0.26082015, 0.3606508 , 0.24511595, 0.15747857, 0.1966048 ],\n",
              "        [0.26082015, 0.3606508 , 0.24511595, 0.15747857, 0.1966048 ],\n",
              "        [0.26082015, 0.3606508 , 0.24511595, 0.15747857, 0.1966048 ],\n",
              "        [0.26082015, 0.3606508 , 0.24511595, 0.15747857, 0.1966048 ],\n",
              "        [0.26082015, 0.3606508 , 0.24511595, 0.15747857, 0.1966048 ],\n",
              "        [0.26082015, 0.3606508 , 0.24511595, 0.15747857, 0.1966048 ],\n",
              "        [0.26082015, 0.3606508 , 0.24511595, 0.15747857, 0.1966048 ]],\n",
              "       dtype=float32)>, <tf.Tensor: shape=(10, 5), dtype=float32, numpy=\n",
              " array([[1.1433828, 0.7421621, 0.8509246, 1.0303158, 0.8188895],\n",
              "        [1.1433828, 0.7421621, 0.8509246, 1.0303158, 0.8188895],\n",
              "        [1.1433828, 0.7421621, 0.8509246, 1.0303158, 0.8188895],\n",
              "        [1.1433828, 0.7421621, 0.8509246, 1.0303158, 0.8188895],\n",
              "        [1.1433828, 0.7421621, 0.8509246, 1.0303158, 0.8188895],\n",
              "        [1.1433828, 0.7421621, 0.8509246, 1.0303158, 0.8188895],\n",
              "        [1.1433828, 0.7421621, 0.8509246, 1.0303158, 0.8188895],\n",
              "        [1.1433828, 0.7421621, 0.8509246, 1.0303158, 0.8188895],\n",
              "        [1.1433828, 0.7421621, 0.8509246, 1.0303158, 0.8188895],\n",
              "        [1.1433828, 0.7421621, 0.8509246, 1.0303158, 0.8188895]],\n",
              "       dtype=float32)>)"
            ]
          },
          "metadata": {
            "tags": []
          },
          "execution_count": 12
        }
      ]
    },
    {
      "cell_type": "code",
      "metadata": {
        "colab": {
          "base_uri": "https://localhost:8080/"
        },
        "id": "13T9mkT51sX_",
        "outputId": "faeebccb-9b63-43dc-971d-63b659d22730"
      },
      "source": [
        "model = LSTM_Model(10)\r\n",
        "out = model(tf.ones((32,20,30)))\r\n",
        "print(out[:,-1,:].shape)"
      ],
      "execution_count": 13,
      "outputs": [
        {
          "output_type": "stream",
          "text": [
            "(32, 1)\n"
          ],
          "name": "stdout"
        }
      ]
    },
    {
      "cell_type": "code",
      "metadata": {
        "id": "H564fqeZRS84"
      },
      "source": [
        "def train_step(model, input, target, loss_function, optimizer):\r\n",
        "  with tf.GradientTape() as tape:\r\n",
        "    prediction = model(input)[:,-1,:]\r\n",
        "    #print(prediction)\r\n",
        "    #print(target)\r\n",
        "    loss = loss_function(target, prediction)\r\n",
        "  optimizer.minimize(loss, model.trainable_variables, tape=tape)\r\n",
        "  acc = 1 - tf.reduce_mean(tf.math.abs(prediction-target))\r\n",
        "  return loss, acc "
      ],
      "execution_count": 14,
      "outputs": []
    },
    {
      "cell_type": "code",
      "metadata": {
        "colab": {
          "base_uri": "https://localhost:8080/"
        },
        "id": "Ilqbi_ewXRgt",
        "outputId": "647817fd-50b5-43a1-99be-111517477f81"
      },
      "source": [
        "def target_in_row(row, context):\r\n",
        "  # 1 if context[0] more frequent than context[1] or equally often\r\n",
        "  #print(context)\r\n",
        "  sum1 = tf.reduce_sum(tf.cast(tf.math.equal(row,context[0]), tf.int32))\r\n",
        "  sum2 = tf.reduce_sum(tf.cast(tf.math.equal(row,context[1]), tf.int32))\r\n",
        "  return tf.constant([0.0]) if sum2>sum1 else tf.constant([1.0])\r\n",
        "\r\n",
        "def calc_targets(input, context):\r\n",
        "  targets = []\r\n",
        "  for row,cont in zip(input,context):\r\n",
        "    #print(\"row\",row, cont)\r\n",
        "    targets.append(target_in_row(row,cont))\r\n",
        "  return tf.stack(targets)\r\n",
        "\r\n",
        "def create_sequence(batch_size,sequence_length):\r\n",
        "  randoms = tf.experimental.numpy.random.randint(0,10,size=(batch_size,sequence_length))\r\n",
        "  context = tf.experimental.numpy.random.randint(0,10,size=(batch_size, 2))\r\n",
        "  #tf.one_hot(randoms,10)\r\n",
        "  return randoms, context\r\n",
        "\r\n",
        "def build_input(sequence,context):\r\n",
        "  seq_shape = sequence.shape\r\n",
        "  context = tf.one_hot(context,10)\r\n",
        "  context = tf.reshape(context, (seq_shape[0],20))\r\n",
        "  #print(context)\r\n",
        "  timesteps = []\r\n",
        "  for i in range(seq_shape[1]):\r\n",
        "    step = tf.one_hot(sequence[:,i],10)\r\n",
        "    concat = tf.concat([context,step],1)\r\n",
        "    #print(concat)\r\n",
        "    timesteps.append(concat)\r\n",
        "  return tf.stack(timesteps, axis=1)\r\n",
        "\r\n",
        "def get_input_target(batch_size, sequence_length):\r\n",
        "  sequence, context = create_sequence(batch_size, sequence_length)\r\n",
        "  target = calc_targets(sequence, context)\r\n",
        "  input = build_input(sequence, context)\r\n",
        "  return input, target\r\n",
        "\r\n",
        "seq, cont = create_sequence(3,20)\r\n",
        "print(seq)\r\n",
        "print(cont)\r\n",
        "tmp = calc_targets(seq,cont)\r\n",
        "#calc_targets()\r\n",
        "print(\"targets\",tmp.shape)\r\n",
        "build_input(seq, cont).shape\r\n",
        "\r\n",
        "inp, targ = get_input_target(32,20)"
      ],
      "execution_count": 15,
      "outputs": [
        {
          "output_type": "stream",
          "text": [
            "ndarray<tf.Tensor(\n",
            "[[2 9 5 2 6 9 1 8 6 1 0 6 2 4 3 4 4 1 9 9]\n",
            " [0 6 5 3 5 2 5 2 9 3 4 7 6 2 3 3 1 5 7 7]\n",
            " [6 7 5 5 8 4 9 6 3 6 7 7 6 4 1 5 0 8 5 7]], shape=(3, 20), dtype=int64)>\n",
            "ndarray<tf.Tensor(\n",
            "[[8 9]\n",
            " [5 4]\n",
            " [2 3]], shape=(3, 2), dtype=int64)>\n",
            "targets (3, 1)\n"
          ],
          "name": "stdout"
        }
      ]
    },
    {
      "cell_type": "code",
      "metadata": {
        "colab": {
          "base_uri": "https://localhost:8080/"
        },
        "id": "KSN96RxAUdxh",
        "outputId": "3dac16db-ae9d-474b-c02a-67c5c968487f"
      },
      "source": [
        "tf.keras.backend.clear_session()\r\n",
        "\r\n",
        "num_epochs = 100\r\n",
        "num_steps_per_epoch = 1000\r\n",
        "learning_rate = 0.001\r\n",
        "running_average_factor = 0.95\r\n",
        "\r\n",
        "unit_size = 5\r\n",
        "batch_size = 32\r\n",
        "sequence_length = 10\r\n",
        "model = LSTM_Model(unit_size=unit_size)\r\n",
        "# Using binary correntropy due to values between 0 and 1\r\n",
        "loss_function = tf.keras.losses.BinaryCrossentropy()\r\n",
        "# Using the Adam optimizer with the defined learnig rate\r\n",
        "optimizer = tf.keras.optimizers.Adam(learning_rate=learning_rate) #,amsgrad=True)\r\n",
        "\r\n",
        "train_losses = []\r\n",
        "train_acc = []\r\n",
        "model(get_input_target(batch_size, sequence_length)[0])\r\n",
        "print(model.summary())\r\n",
        "\r\n",
        "time0 = time.time()\r\n",
        "\r\n",
        "for epoch in range(num_epochs):\r\n",
        "  print(\"Epoch:\", epoch, \"/\", num_epochs)\r\n",
        "  running_avg_loss = 0\r\n",
        "  running_avg_acc = 0\r\n",
        "\r\n",
        "  for step in range(num_steps_per_epoch):\r\n",
        "    input, target = get_input_target(batch_size, sequence_length)\r\n",
        "    loss, acc = train_step(model, input, target, loss_function, optimizer)\r\n",
        "    running_avg_loss = running_average_factor * running_avg_loss + (1 - running_average_factor) * loss\r\n",
        "    running_avg_acc = running_average_factor * running_avg_acc + (1 - running_average_factor) * acc\r\n",
        "  train_losses.append(running_avg_loss)\r\n",
        "  train_acc.append(running_avg_acc)\r\n",
        "\r\n",
        "  run_time = time.time()-time0 \r\n",
        "  print(\"After Epoch\",epoch,'train_loss:', round(running_avg_loss.numpy(),4),'train_acc:', round(running_avg_acc.numpy(),4), \"running:\",round(run_time,1),\"sec ETA:\",round(((run_time)/(epoch+1)*num_epochs-run_time)/60,1),\"min\")"
      ],
      "execution_count": 16,
      "outputs": [
        {
          "output_type": "stream",
          "text": [
            "Model: \"lstm__model\"\n",
            "_________________________________________________________________\n",
            "Layer (type)                 Output Shape              Param #   \n",
            "=================================================================\n",
            "dense (Dense)                multiple                  310       \n",
            "_________________________________________________________________\n",
            "lstm (LSTM)                  multiple                  320       \n",
            "_________________________________________________________________\n",
            "dense_5 (Dense)              multiple                  6         \n",
            "=================================================================\n",
            "Total params: 636\n",
            "Trainable params: 636\n",
            "Non-trainable params: 0\n",
            "_________________________________________________________________\n",
            "None\n",
            "Epoch: 0 / 100\n",
            "After Epoch 0 train_loss: 0.6272 train_acc: 0.5674 running: 77.8 sec ETA: 128.3 min\n",
            "Epoch: 1 / 100\n",
            "After Epoch 1 train_loss: 0.5971 train_acc: 0.5839 running: 155.5 sec ETA: 127.0 min\n",
            "Epoch: 2 / 100\n",
            "After Epoch 2 train_loss: 0.6136 train_acc: 0.5747 running: 232.6 sec ETA: 125.3 min\n",
            "Epoch: 3 / 100\n",
            "After Epoch 3 train_loss: 0.6296 train_acc: 0.5637 running: 309.9 sec ETA: 124.0 min\n",
            "Epoch: 4 / 100\n",
            "After Epoch 4 train_loss: 0.6101 train_acc: 0.5813 running: 387.3 sec ETA: 122.6 min\n",
            "Epoch: 5 / 100\n",
            "After Epoch 5 train_loss: 0.6071 train_acc: 0.5831 running: 464.4 sec ETA: 121.3 min\n",
            "Epoch: 6 / 100\n",
            "After Epoch 6 train_loss: 0.606 train_acc: 0.582 running: 541.8 sec ETA: 120.0 min\n",
            "Epoch: 7 / 100\n",
            "After Epoch 7 train_loss: 0.6012 train_acc: 0.591 running: 618.3 sec ETA: 118.5 min\n",
            "Epoch: 8 / 100\n",
            "After Epoch 8 train_loss: 0.5839 train_acc: 0.5957 running: 695.5 sec ETA: 117.2 min\n",
            "Epoch: 9 / 100\n",
            "After Epoch 9 train_loss: 0.5875 train_acc: 0.6006 running: 772.0 sec ETA: 115.8 min\n",
            "Epoch: 10 / 100\n",
            "After Epoch 10 train_loss: 0.5873 train_acc: 0.6003 running: 848.7 sec ETA: 114.4 min\n",
            "Epoch: 11 / 100\n",
            "After Epoch 11 train_loss: 0.5917 train_acc: 0.5927 running: 926.4 sec ETA: 113.2 min\n",
            "Epoch: 12 / 100\n",
            "After Epoch 12 train_loss: 0.5725 train_acc: 0.6081 running: 1004.1 sec ETA: 112.0 min\n",
            "Epoch: 13 / 100\n",
            "After Epoch 13 train_loss: 0.6086 train_acc: 0.5763 running: 1080.9 sec ETA: 110.7 min\n",
            "Epoch: 14 / 100\n",
            "After Epoch 14 train_loss: 0.5853 train_acc: 0.6019 running: 1157.8 sec ETA: 109.3 min\n",
            "Epoch: 15 / 100\n",
            "After Epoch 15 train_loss: 0.6019 train_acc: 0.5937 running: 1235.2 sec ETA: 108.1 min\n",
            "Epoch: 16 / 100\n",
            "After Epoch 16 train_loss: 0.5907 train_acc: 0.5886 running: 1312.3 sec ETA: 106.8 min\n",
            "Epoch: 17 / 100\n",
            "After Epoch 17 train_loss: 0.5935 train_acc: 0.5935 running: 1389.0 sec ETA: 105.5 min\n",
            "Epoch: 18 / 100\n",
            "After Epoch 18 train_loss: 0.5918 train_acc: 0.593 running: 1466.0 sec ETA: 104.2 min\n",
            "Epoch: 19 / 100\n",
            "After Epoch 19 train_loss: 0.5782 train_acc: 0.601 running: 1543.0 sec ETA: 102.9 min\n",
            "Epoch: 20 / 100\n",
            "After Epoch 20 train_loss: 0.5545 train_acc: 0.6172 running: 1619.7 sec ETA: 101.6 min\n",
            "Epoch: 21 / 100\n",
            "After Epoch 21 train_loss: 0.585 train_acc: 0.5983 running: 1697.5 sec ETA: 100.3 min\n",
            "Epoch: 22 / 100\n",
            "After Epoch 22 train_loss: 0.5552 train_acc: 0.6178 running: 1775.2 sec ETA: 99.1 min\n",
            "Epoch: 23 / 100\n",
            "After Epoch 23 train_loss: 0.5713 train_acc: 0.6196 running: 1852.4 sec ETA: 97.8 min\n",
            "Epoch: 24 / 100\n",
            "After Epoch 24 train_loss: 0.5373 train_acc: 0.6367 running: 1929.7 sec ETA: 96.5 min\n",
            "Epoch: 25 / 100\n",
            "After Epoch 25 train_loss: 0.5166 train_acc: 0.6532 running: 2006.6 sec ETA: 95.2 min\n",
            "Epoch: 26 / 100\n",
            "After Epoch 26 train_loss: 0.4961 train_acc: 0.6597 running: 2084.1 sec ETA: 93.9 min\n",
            "Epoch: 27 / 100\n",
            "After Epoch 27 train_loss: 0.501 train_acc: 0.6547 running: 2161.6 sec ETA: 92.6 min\n",
            "Epoch: 28 / 100\n",
            "After Epoch 28 train_loss: 0.4983 train_acc: 0.6697 running: 2239.4 sec ETA: 91.4 min\n",
            "Epoch: 29 / 100\n",
            "After Epoch 29 train_loss: 0.4722 train_acc: 0.6815 running: 2316.3 sec ETA: 90.1 min\n",
            "Epoch: 30 / 100\n",
            "After Epoch 30 train_loss: 0.4605 train_acc: 0.6888 running: 2393.6 sec ETA: 88.8 min\n",
            "Epoch: 31 / 100\n",
            "After Epoch 31 train_loss: 0.4552 train_acc: 0.6933 running: 2471.2 sec ETA: 87.5 min\n",
            "Epoch: 32 / 100\n",
            "After Epoch 32 train_loss: 0.4429 train_acc: 0.7128 running: 2547.8 sec ETA: 86.2 min\n",
            "Epoch: 33 / 100\n",
            "After Epoch 33 train_loss: 0.4164 train_acc: 0.7204 running: 2624.6 sec ETA: 84.9 min\n",
            "Epoch: 34 / 100\n",
            "After Epoch 34 train_loss: 0.4116 train_acc: 0.7306 running: 2701.8 sec ETA: 83.6 min\n",
            "Epoch: 35 / 100\n",
            "After Epoch 35 train_loss: 0.3898 train_acc: 0.7384 running: 2778.7 sec ETA: 82.3 min\n",
            "Epoch: 36 / 100\n",
            "After Epoch 36 train_loss: 0.3846 train_acc: 0.7412 running: 2855.5 sec ETA: 81.0 min\n",
            "Epoch: 37 / 100\n",
            "After Epoch 37 train_loss: 0.3986 train_acc: 0.7417 running: 2932.7 sec ETA: 79.7 min\n",
            "Epoch: 38 / 100\n",
            "After Epoch 38 train_loss: 0.3502 train_acc: 0.7653 running: 3009.6 sec ETA: 78.5 min\n",
            "Epoch: 39 / 100\n",
            "After Epoch 39 train_loss: 0.3502 train_acc: 0.7674 running: 3086.7 sec ETA: 77.2 min\n",
            "Epoch: 40 / 100\n",
            "After Epoch 40 train_loss: 0.3556 train_acc: 0.764 running: 3163.6 sec ETA: 75.9 min\n",
            "Epoch: 41 / 100\n",
            "After Epoch 41 train_loss: 0.3311 train_acc: 0.7775 running: 3241.0 sec ETA: 74.6 min\n",
            "Epoch: 42 / 100\n",
            "After Epoch 42 train_loss: 0.3716 train_acc: 0.7619 running: 3317.8 sec ETA: 73.3 min\n",
            "Epoch: 43 / 100\n",
            "After Epoch 43 train_loss: 0.3128 train_acc: 0.7913 running: 3394.5 sec ETA: 72.0 min\n",
            "Epoch: 44 / 100\n",
            "After Epoch 44 train_loss: 0.3456 train_acc: 0.7774 running: 3471.6 sec ETA: 70.7 min\n",
            "Epoch: 45 / 100\n",
            "After Epoch 45 train_loss: 0.3352 train_acc: 0.7888 running: 3549.0 sec ETA: 69.4 min\n",
            "Epoch: 46 / 100\n",
            "After Epoch 46 train_loss: 0.3233 train_acc: 0.7908 running: 3626.3 sec ETA: 68.2 min\n",
            "Epoch: 47 / 100\n",
            "After Epoch 47 train_loss: 0.3228 train_acc: 0.7862 running: 3703.7 sec ETA: 66.9 min\n",
            "Epoch: 48 / 100\n",
            "After Epoch 48 train_loss: 0.3018 train_acc: 0.8043 running: 3781.1 sec ETA: 65.6 min\n",
            "Epoch: 49 / 100\n",
            "After Epoch 49 train_loss: 0.3048 train_acc: 0.7991 running: 3857.9 sec ETA: 64.3 min\n",
            "Epoch: 50 / 100\n",
            "After Epoch 50 train_loss: 0.2895 train_acc: 0.8084 running: 3935.2 sec ETA: 63.0 min\n",
            "Epoch: 51 / 100\n",
            "After Epoch 51 train_loss: 0.3169 train_acc: 0.8018 running: 4012.0 sec ETA: 61.7 min\n",
            "Epoch: 52 / 100\n",
            "After Epoch 52 train_loss: 0.2832 train_acc: 0.8148 running: 4089.6 sec ETA: 60.4 min\n",
            "Epoch: 53 / 100\n",
            "After Epoch 53 train_loss: 0.3313 train_acc: 0.791 running: 4167.0 sec ETA: 59.2 min\n",
            "Epoch: 54 / 100\n",
            "After Epoch 54 train_loss: 0.2907 train_acc: 0.8124 running: 4244.5 sec ETA: 57.9 min\n",
            "Epoch: 55 / 100\n",
            "After Epoch 55 train_loss: 0.295 train_acc: 0.8048 running: 4322.1 sec ETA: 56.6 min\n",
            "Epoch: 56 / 100\n",
            "After Epoch 56 train_loss: 0.282 train_acc: 0.8209 running: 4399.3 sec ETA: 55.3 min\n",
            "Epoch: 57 / 100\n",
            "After Epoch 57 train_loss: 0.2851 train_acc: 0.8176 running: 4476.6 sec ETA: 54.0 min\n",
            "Epoch: 58 / 100\n",
            "After Epoch 58 train_loss: 0.2766 train_acc: 0.8204 running: 4554.5 sec ETA: 52.8 min\n",
            "Epoch: 59 / 100\n",
            "After Epoch 59 train_loss: 0.2587 train_acc: 0.8318 running: 4632.4 sec ETA: 51.5 min\n",
            "Epoch: 60 / 100\n",
            "After Epoch 60 train_loss: 0.2673 train_acc: 0.8282 running: 4710.1 sec ETA: 50.2 min\n",
            "Epoch: 61 / 100\n",
            "After Epoch 61 train_loss: 0.2671 train_acc: 0.8272 running: 4787.6 sec ETA: 48.9 min\n",
            "Epoch: 62 / 100\n",
            "After Epoch 62 train_loss: 0.2628 train_acc: 0.8318 running: 4864.9 sec ETA: 47.6 min\n",
            "Epoch: 63 / 100\n",
            "After Epoch 63 train_loss: 0.2433 train_acc: 0.8417 running: 4942.5 sec ETA: 46.3 min\n",
            "Epoch: 64 / 100\n",
            "After Epoch 64 train_loss: 0.2562 train_acc: 0.835 running: 5019.9 sec ETA: 45.1 min\n",
            "Epoch: 65 / 100\n",
            "After Epoch 65 train_loss: 0.24 train_acc: 0.8457 running: 5097.8 sec ETA: 43.8 min\n",
            "Epoch: 66 / 100\n",
            "After Epoch 66 train_loss: 0.2432 train_acc: 0.8476 running: 5175.1 sec ETA: 42.5 min\n",
            "Epoch: 67 / 100\n",
            "After Epoch 67 train_loss: 0.2369 train_acc: 0.8451 running: 5252.2 sec ETA: 41.2 min\n",
            "Epoch: 68 / 100\n",
            "After Epoch 68 train_loss: 0.2391 train_acc: 0.8494 running: 5329.6 sec ETA: 39.9 min\n",
            "Epoch: 69 / 100\n",
            "After Epoch 69 train_loss: 0.2392 train_acc: 0.8502 running: 5407.1 sec ETA: 38.6 min\n",
            "Epoch: 70 / 100\n",
            "After Epoch 70 train_loss: 0.24 train_acc: 0.8463 running: 5484.4 sec ETA: 37.3 min\n",
            "Epoch: 71 / 100\n",
            "After Epoch 71 train_loss: 0.2564 train_acc: 0.8407 running: 5561.7 sec ETA: 36.0 min\n",
            "Epoch: 72 / 100\n",
            "After Epoch 72 train_loss: 0.2014 train_acc: 0.8653 running: 5639.5 sec ETA: 34.8 min\n",
            "Epoch: 73 / 100\n",
            "After Epoch 73 train_loss: 0.2055 train_acc: 0.863 running: 5717.0 sec ETA: 33.5 min\n",
            "Epoch: 74 / 100\n",
            "After Epoch 74 train_loss: 0.2144 train_acc: 0.8601 running: 5794.3 sec ETA: 32.2 min\n",
            "Epoch: 75 / 100\n",
            "After Epoch 75 train_loss: 0.2282 train_acc: 0.8553 running: 5871.7 sec ETA: 30.9 min\n",
            "Epoch: 76 / 100\n",
            "After Epoch 76 train_loss: 0.2415 train_acc: 0.8503 running: 5949.7 sec ETA: 29.6 min\n",
            "Epoch: 77 / 100\n",
            "After Epoch 77 train_loss: 0.2089 train_acc: 0.8643 running: 6027.3 sec ETA: 28.3 min\n",
            "Epoch: 78 / 100\n",
            "After Epoch 78 train_loss: 0.2256 train_acc: 0.86 running: 6105.0 sec ETA: 27.0 min\n",
            "Epoch: 79 / 100\n",
            "After Epoch 79 train_loss: 0.2313 train_acc: 0.8587 running: 6182.0 sec ETA: 25.8 min\n",
            "Epoch: 80 / 100\n",
            "After Epoch 80 train_loss: 0.2202 train_acc: 0.8598 running: 6259.3 sec ETA: 24.5 min\n",
            "Epoch: 81 / 100\n",
            "After Epoch 81 train_loss: 0.2228 train_acc: 0.8568 running: 6336.1 sec ETA: 23.2 min\n",
            "Epoch: 82 / 100\n",
            "After Epoch 82 train_loss: 0.2207 train_acc: 0.8615 running: 6413.1 sec ETA: 21.9 min\n",
            "Epoch: 83 / 100\n",
            "After Epoch 83 train_loss: 0.1967 train_acc: 0.8735 running: 6490.0 sec ETA: 20.6 min\n",
            "Epoch: 84 / 100\n",
            "After Epoch 84 train_loss: 0.232 train_acc: 0.8595 running: 6566.9 sec ETA: 19.3 min\n",
            "Epoch: 85 / 100\n",
            "After Epoch 85 train_loss: 0.1947 train_acc: 0.8769 running: 6643.7 sec ETA: 18.0 min\n",
            "Epoch: 86 / 100\n",
            "After Epoch 86 train_loss: 0.2142 train_acc: 0.8645 running: 6720.8 sec ETA: 16.7 min\n",
            "Epoch: 87 / 100\n",
            "After Epoch 87 train_loss: 0.1853 train_acc: 0.8825 running: 6797.8 sec ETA: 15.4 min\n",
            "Epoch: 88 / 100\n",
            "After Epoch 88 train_loss: 0.1743 train_acc: 0.887 running: 6874.6 sec ETA: 14.2 min\n",
            "Epoch: 89 / 100\n",
            "After Epoch 89 train_loss: 0.2005 train_acc: 0.8769 running: 6951.9 sec ETA: 12.9 min\n",
            "Epoch: 90 / 100\n",
            "After Epoch 90 train_loss: 0.2184 train_acc: 0.8697 running: 7028.9 sec ETA: 11.6 min\n",
            "Epoch: 91 / 100\n",
            "After Epoch 91 train_loss: 0.1812 train_acc: 0.8839 running: 7106.3 sec ETA: 10.3 min\n",
            "Epoch: 92 / 100\n",
            "After Epoch 92 train_loss: 0.2086 train_acc: 0.8739 running: 7183.6 sec ETA: 9.0 min\n",
            "Epoch: 93 / 100\n",
            "After Epoch 93 train_loss: 0.1806 train_acc: 0.8839 running: 7260.8 sec ETA: 7.7 min\n",
            "Epoch: 94 / 100\n",
            "After Epoch 94 train_loss: 0.178 train_acc: 0.8857 running: 7337.8 sec ETA: 6.4 min\n",
            "Epoch: 95 / 100\n",
            "After Epoch 95 train_loss: 0.1709 train_acc: 0.8873 running: 7415.4 sec ETA: 5.1 min\n",
            "Epoch: 96 / 100\n",
            "After Epoch 96 train_loss: 0.1729 train_acc: 0.8911 running: 7492.7 sec ETA: 3.9 min\n",
            "Epoch: 97 / 100\n",
            "After Epoch 97 train_loss: 0.1596 train_acc: 0.8959 running: 7570.9 sec ETA: 2.6 min\n",
            "Epoch: 98 / 100\n",
            "After Epoch 98 train_loss: 0.1506 train_acc: 0.8968 running: 7649.0 sec ETA: 1.3 min\n",
            "Epoch: 99 / 100\n",
            "After Epoch 99 train_loss: 0.1876 train_acc: 0.8874 running: 7726.3 sec ETA: 0.0 min\n"
          ],
          "name": "stdout"
        }
      ]
    },
    {
      "cell_type": "code",
      "metadata": {
        "colab": {
          "base_uri": "https://localhost:8080/",
          "height": 279
        },
        "id": "L_y7xWL5VSHP",
        "outputId": "5303e874-7275-4ac6-b6e0-962c6e703f77"
      },
      "source": [
        "import matplotlib.pyplot as plt\r\n",
        "plt.figure()\r\n",
        "plt.plot(train_losses, label=\"losses\")\r\n",
        "plt.plot(train_acc, label=\"accuracy\")\r\n",
        "plt.xlabel(\"Training steps\")\r\n",
        "plt.ylabel(\"-\")\r\n",
        "plt.legend()\r\n",
        "plt.show()"
      ],
      "execution_count": 18,
      "outputs": [
        {
          "output_type": "display_data",
          "data": {
            "image/png": "[encoded data removed]",
            "text/plain": [
              "<Figure size 432x288 with 1 Axes>"
            ]
          },
          "metadata": {
            "tags": [],
            "needs_background": "light"
          }
        }
      ]
    },
    {
      "cell_type": "code",
      "metadata": {
        "id": "SmGdoTo4e0rL"
      },
      "source": [
        ""
      ],
      "execution_count": null,
      "outputs": []
    }
  ]
}